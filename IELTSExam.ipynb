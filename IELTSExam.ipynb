{
 "cells": [
  {
   "cell_type": "code",
   "execution_count": 53,
   "id": "29f4fca3",
   "metadata": {},
   "outputs": [
    {
     "name": "stdout",
     "output_type": "stream",
     "text": [
      "Email sent!\n"
     ]
    }
   ],
   "source": [
    "###https://thecaferobot.com/learn/web-scraping-raspberry-pi-python-tutorial-guide/\n",
    "from bs4 import BeautifulSoup \n",
    "import requests \n",
    "import re \n",
    "import smtplib \n",
    "from email.mime.multipart import MIMEMultipart\n",
    "nothing_new=['بر اساس جستجوی شما هیچ آزمونی پیدا نشد. لطفا جستجوی انجام شده خود را اصلاح نمایید.\\n']\n",
    "exam_info = \"\" \n",
    "message_body=\"\"\n",
    "r = requests.get(\"https://irsafam.com/ielts/timetable?city%5B%5D=tehran&model%5B%5D=ielts&type%5B%5D=academic\") \n",
    "soup = BeautifulSoup(r.text, 'html.parser') \n",
    "result = soup.find_all('div', attrs = {'class':'exam'}) \n",
    " \n",
    "for i in result: \n",
    "    exam_info += i.text.strip() \n",
    "    exam_info += \"\\n\"\n",
    "exam_info=[exam_info]\n",
    "gmail_user = 'melikaabedi681375@gmail.com'  \n",
    "gmail_password = 'sckl gryk bpkx mfgj'   #Enter your Email pasword \n",
    "sent_from = gmail_user   \n",
    "to = ['melikaabedi681375@gmail.com']      #list of destination Email address \n",
    "\n",
    "    #Email title \n",
    "msg = \"\"\"Subject:IeltsExam \n",
    "    \"\"\" \n",
    "    #add news to email massage \n",
    "message_body=\"\"\n",
    "if exam_info==nothing_new:\n",
    "    message_body=\"nopeeee baby nothing changes\"\n",
    "else:\n",
    "    message_body=\"check the irsafam.com website \" \n",
    "msg += message_body\n",
    "\n",
    "server = smtplib.SMTP_SSL('smtp.gmail.com', 465) \n",
    "server.ehlo() \n",
    "server.login(gmail_user, gmail_password) \n",
    "server.sendmail(sent_from, to, msg) \n",
    "server.close() \n",
    "\n",
    "print ('Email sent!') \n",
    "\n",
    " \n"
   ]
  },
  {
   "cell_type": "code",
   "execution_count": null,
   "id": "8d0a4377",
   "metadata": {},
   "outputs": [],
   "source": []
  }
 ],
 "metadata": {
  "kernelspec": {
   "display_name": "Python 3 (ipykernel)",
   "language": "python",
   "name": "python3"
  },
  "language_info": {
   "codemirror_mode": {
    "name": "ipython",
    "version": 3
   },
   "file_extension": ".py",
   "mimetype": "text/x-python",
   "name": "python",
   "nbconvert_exporter": "python",
   "pygments_lexer": "ipython3",
   "version": "3.11.4"
  }
 },
 "nbformat": 4,
 "nbformat_minor": 5
}
