{
 "cells": [
  {
   "cell_type": "code",
   "execution_count": 23,
   "id": "df26c431",
   "metadata": {},
   "outputs": [
    {
     "name": "stdout",
     "output_type": "stream",
     "text": [
      "email sent successfully\n"
     ]
    }
   ],
   "source": [
    "from bs4 import BeautifulSoup \n",
    "import requests \n",
    "import re \n",
    "import smtplib \n",
    "from email.mime.multipart import MIMEMultipart\n",
    "class IeltsExam:\n",
    "    def __init__(self):\n",
    "        self.nothing_new=['بر اساس جستجوی شما هیچ آزمونی پیدا نشد. لطفا جستجوی انجام شده خود را اصلاح نمایید.\\n']\n",
    "        self.exam_info = \"\" \n",
    "        self.message_body=\"\"\n",
    "        self.gmail_user = 'melikaabedi681375@gmail.com'  \n",
    "        self.gmail_password = 'sckl gryk bpkx mfgj'\n",
    "        self.receiver_email_address='melikaabedi681375@gmail.com' \n",
    "    def request_for_information(self):\n",
    "        r = requests.get(\"https://irsafam.com/ielts/timetable?city%5B%5D=tehran&model%5B%5D=ielts&type%5B%5D=academic\") \n",
    "        soup = BeautifulSoup(r.text, 'html.parser') \n",
    "        result = soup.find_all('div', attrs = {'class':'exam'})\n",
    "        return result \n",
    "    def body_of_email(self):\n",
    "        results = self.request_for_information()\n",
    "        for i in results: \n",
    "            self.exam_info += i.text.strip() \n",
    "            self.exam_info+= \"\\n\"\n",
    "        self.exam_info=[self.exam_info]\n",
    "        if self.exam_info==self.nothing_new:\n",
    "            self.message_body=\"nopeeee baby nothing changes\"\n",
    "        else:\n",
    "            self.message_body=\"check the irsafam.com website \"\n",
    "        return self.message_body\n",
    "    def send_email(self):\n",
    "        try:\n",
    "            sent_from = self.gmail_user\n",
    "            to = [self.receiver_email_address]\n",
    "            msg = \"\"\"Subject:IeltsExam \"\"\"\n",
    "            msg += self.body_of_email()\n",
    "            server = smtplib.SMTP_SSL('smtp.gmail.com', 465)\n",
    "            server.ehlo()\n",
    "            server.login(self.gmail_user, self.gmail_password)\n",
    "            server.sendmail(sent_from, to, msg)\n",
    "            server.close()\n",
    "            print(\"email sent successfully\")\n",
    "        except Exception as e:\n",
    "            print(\"An error occurred while sending the email:\", e)\n",
    "\n",
    "email_sender = IeltsExam()\n",
    "email_sender.send_email()\n",
    "\n",
    "\n",
    "\n",
    " \n"
   ]
  },
  {
   "cell_type": "code",
   "execution_count": null,
   "id": "81e12971",
   "metadata": {},
   "outputs": [],
   "source": []
  }
 ],
 "metadata": {
  "kernelspec": {
   "display_name": "Python 3 (ipykernel)",
   "language": "python",
   "name": "python3"
  },
  "language_info": {
   "codemirror_mode": {
    "name": "ipython",
    "version": 3
   },
   "file_extension": ".py",
   "mimetype": "text/x-python",
   "name": "python",
   "nbconvert_exporter": "python",
   "pygments_lexer": "ipython3",
   "version": "3.11.4"
  }
 },
 "nbformat": 4,
 "nbformat_minor": 5
}
